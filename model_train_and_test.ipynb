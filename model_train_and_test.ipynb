{
 "cells": [
  {
   "cell_type": "markdown",
   "id": "e02c828d",
   "metadata": {},
   "source": [
    "# Which Model Predicts Megaline Phone Plan Preference Most Accurately?"
   ]
  },
  {
   "cell_type": "markdown",
   "id": "d68d3a39",
   "metadata": {},
   "source": [
    "## Project Description"
   ]
  },
  {
   "cell_type": "markdown",
   "id": "9cdd35f7",
   "metadata": {},
   "source": [
    "The following project uses pre-processed data from the Megaline mobile phone company detailing their customer's monthly beahviors (number of calls made, data used, etc.). The data is derived from customers who have already switched to one of Megaline's new phone plans (Smart or Ultra) and will be used to train several classification models. Each model will be fitted to predict which of Megaline's new phone plans should be advertised to customers who have not yet switched to one of the Smart or Ultra plans. The purpose of this project is to test each model for optimal accuracy by iterating through different combinations of hyperparemters in order to provide Megaline with the most accurate and time efficient model for targeted advertisement. "
   ]
  },
  {
   "cell_type": "markdown",
   "id": "8aca73f4",
   "metadata": {},
   "source": [
    "## Import Neccesary Libraries"
   ]
  },
  {
   "cell_type": "code",
   "execution_count": 1,
   "id": "d13387aa",
   "metadata": {},
   "outputs": [],
   "source": [
    "import pandas as pd\n",
    "from sklearn.model_selection import train_test_split\n",
    "from sklearn.metrics import accuracy_score\n",
    "from sklearn.tree import DecisionTreeClassifier\n",
    "from sklearn.ensemble import RandomForestClassifier\n",
    "from sklearn.linear_model import LogisticRegression"
   ]
  },
  {
   "cell_type": "markdown",
   "id": "0d332e09",
   "metadata": {},
   "source": [
    "## Open Dataset"
   ]
  },
  {
   "cell_type": "code",
   "execution_count": 2,
   "id": "78d4a737",
   "metadata": {},
   "outputs": [],
   "source": [
    "url = 'https://raw.githubusercontent.com/pvnkd0v3/megaline_model_training_tt_project/main/users_behavior.csv'\n",
    "megaline = pd.read_csv(url)"
   ]
  },
  {
   "cell_type": "markdown",
   "id": "e80fd255",
   "metadata": {},
   "source": [
    "## View Data"
   ]
  },
  {
   "cell_type": "code",
   "execution_count": 3,
   "id": "5df358e0",
   "metadata": {},
   "outputs": [
    {
     "data": {
      "text/html": [
       "<div>\n",
       "<style scoped>\n",
       "    .dataframe tbody tr th:only-of-type {\n",
       "        vertical-align: middle;\n",
       "    }\n",
       "\n",
       "    .dataframe tbody tr th {\n",
       "        vertical-align: top;\n",
       "    }\n",
       "\n",
       "    .dataframe thead th {\n",
       "        text-align: right;\n",
       "    }\n",
       "</style>\n",
       "<table border=\"1\" class=\"dataframe\">\n",
       "  <thead>\n",
       "    <tr style=\"text-align: right;\">\n",
       "      <th></th>\n",
       "      <th>calls</th>\n",
       "      <th>minutes</th>\n",
       "      <th>messages</th>\n",
       "      <th>mb_used</th>\n",
       "      <th>is_ultra</th>\n",
       "    </tr>\n",
       "  </thead>\n",
       "  <tbody>\n",
       "    <tr>\n",
       "      <th>0</th>\n",
       "      <td>40.0</td>\n",
       "      <td>311.90</td>\n",
       "      <td>83.0</td>\n",
       "      <td>19915.42</td>\n",
       "      <td>0</td>\n",
       "    </tr>\n",
       "    <tr>\n",
       "      <th>1</th>\n",
       "      <td>85.0</td>\n",
       "      <td>516.75</td>\n",
       "      <td>56.0</td>\n",
       "      <td>22696.96</td>\n",
       "      <td>0</td>\n",
       "    </tr>\n",
       "    <tr>\n",
       "      <th>2</th>\n",
       "      <td>77.0</td>\n",
       "      <td>467.66</td>\n",
       "      <td>86.0</td>\n",
       "      <td>21060.45</td>\n",
       "      <td>0</td>\n",
       "    </tr>\n",
       "    <tr>\n",
       "      <th>3</th>\n",
       "      <td>106.0</td>\n",
       "      <td>745.53</td>\n",
       "      <td>81.0</td>\n",
       "      <td>8437.39</td>\n",
       "      <td>1</td>\n",
       "    </tr>\n",
       "    <tr>\n",
       "      <th>4</th>\n",
       "      <td>66.0</td>\n",
       "      <td>418.74</td>\n",
       "      <td>1.0</td>\n",
       "      <td>14502.75</td>\n",
       "      <td>0</td>\n",
       "    </tr>\n",
       "    <tr>\n",
       "      <th>...</th>\n",
       "      <td>...</td>\n",
       "      <td>...</td>\n",
       "      <td>...</td>\n",
       "      <td>...</td>\n",
       "      <td>...</td>\n",
       "    </tr>\n",
       "    <tr>\n",
       "      <th>3209</th>\n",
       "      <td>122.0</td>\n",
       "      <td>910.98</td>\n",
       "      <td>20.0</td>\n",
       "      <td>35124.90</td>\n",
       "      <td>1</td>\n",
       "    </tr>\n",
       "    <tr>\n",
       "      <th>3210</th>\n",
       "      <td>25.0</td>\n",
       "      <td>190.36</td>\n",
       "      <td>0.0</td>\n",
       "      <td>3275.61</td>\n",
       "      <td>0</td>\n",
       "    </tr>\n",
       "    <tr>\n",
       "      <th>3211</th>\n",
       "      <td>97.0</td>\n",
       "      <td>634.44</td>\n",
       "      <td>70.0</td>\n",
       "      <td>13974.06</td>\n",
       "      <td>0</td>\n",
       "    </tr>\n",
       "    <tr>\n",
       "      <th>3212</th>\n",
       "      <td>64.0</td>\n",
       "      <td>462.32</td>\n",
       "      <td>90.0</td>\n",
       "      <td>31239.78</td>\n",
       "      <td>0</td>\n",
       "    </tr>\n",
       "    <tr>\n",
       "      <th>3213</th>\n",
       "      <td>80.0</td>\n",
       "      <td>566.09</td>\n",
       "      <td>6.0</td>\n",
       "      <td>29480.52</td>\n",
       "      <td>1</td>\n",
       "    </tr>\n",
       "  </tbody>\n",
       "</table>\n",
       "<p>3214 rows × 5 columns</p>\n",
       "</div>"
      ],
      "text/plain": [
       "      calls  minutes  messages   mb_used  is_ultra\n",
       "0      40.0   311.90      83.0  19915.42         0\n",
       "1      85.0   516.75      56.0  22696.96         0\n",
       "2      77.0   467.66      86.0  21060.45         0\n",
       "3     106.0   745.53      81.0   8437.39         1\n",
       "4      66.0   418.74       1.0  14502.75         0\n",
       "...     ...      ...       ...       ...       ...\n",
       "3209  122.0   910.98      20.0  35124.90         1\n",
       "3210   25.0   190.36       0.0   3275.61         0\n",
       "3211   97.0   634.44      70.0  13974.06         0\n",
       "3212   64.0   462.32      90.0  31239.78         0\n",
       "3213   80.0   566.09       6.0  29480.52         1\n",
       "\n",
       "[3214 rows x 5 columns]"
      ]
     },
     "execution_count": 3,
     "metadata": {},
     "output_type": "execute_result"
    }
   ],
   "source": [
    "megaline"
   ]
  },
  {
   "cell_type": "markdown",
   "id": "75e5974f",
   "metadata": {},
   "source": [
    "The megaline dataframe contains observations of 3214 customers of Megaline, a mobile carrier company. Each observation represents the monthly behavior of a single customer including the number of calls made, total call durations (in minutes), number of text messages sent, data used (in MB), and which of Megaline's new plans the user is subscribed to (0 for Smart 1 for Ultra). **Note:** This dataset has been previously processed in preperation for this project."
   ]
  },
  {
   "cell_type": "markdown",
   "id": "637c3cb1",
   "metadata": {},
   "source": [
    "## Define Model Features and Targets"
   ]
  },
  {
   "cell_type": "code",
   "execution_count": 4,
   "id": "147a50d5",
   "metadata": {},
   "outputs": [],
   "source": [
    "features = megaline.drop('is_ultra', axis=1) #User behavior that will be used to predict target (new phone plan)\n",
    "target = megaline['is_ultra'] #New phone plans to be predicted using features (user behavior)"
   ]
  },
  {
   "cell_type": "markdown",
   "id": "6d9d8d66",
   "metadata": {},
   "source": [
    "## Create Test and Validation Datasets"
   ]
  },
  {
   "cell_type": "code",
   "execution_count": 5,
   "id": "71e76c17",
   "metadata": {},
   "outputs": [],
   "source": [
    "features_train, features_valid, target_train, target_valid = train_test_split(features, \n",
    "                                                                              target, \n",
    "                                                                              test_size=0.25, \n",
    "                                                                              random_state=12345)"
   ]
  },
  {
   "cell_type": "markdown",
   "id": "2e193bc5",
   "metadata": {},
   "source": [
    "## Create and Test Models"
   ]
  },
  {
   "cell_type": "markdown",
   "id": "427029e8",
   "metadata": {},
   "source": [
    "### Decision Tree Model"
   ]
  },
  {
   "cell_type": "code",
   "execution_count": 6,
   "id": "3a4a7eb0",
   "metadata": {},
   "outputs": [
    {
     "name": "stdout",
     "output_type": "stream",
     "text": [
      "Best depth: 7. Accuracy: 0.7898009950248757.\n"
     ]
    }
   ],
   "source": [
    "best_depth = 0 #Model depth placeholder value\n",
    "best_score = 0 #Accuracy score placeholder value\n",
    "\n",
    "for depth in range(1, 51): #Loop that will create a DecisionTreeClassifier model with different depths\n",
    "    model = DecisionTreeClassifier(max_depth=depth, random_state=12345) \n",
    "    model.fit(features_train, target_train) #Fit current model with intended features and target\n",
    "    \n",
    "    score = model.score(features_valid, target_valid) #Get accuracy score of current model using validation dataset\n",
    "    if score > best_score: #Replaces depth and accuracy place holders with info from model that has the highest accuracy score\n",
    "        best_score = score\n",
    "        best_depth = depth\n",
    "        \n",
    "print(f'Best depth: {best_depth}. Accuracy: {best_score}.') #Print statement results in optimal model and score from loop\n",
    "\n",
    "    "
   ]
  },
  {
   "cell_type": "markdown",
   "id": "4474c4c3",
   "metadata": {},
   "source": [
    "When given a range of depths between 1 and 50 (for sake of time efficiency) the Decision Tree model had the highest accuracy with a depth of 7 which returned an accuracy of approximately 0.790 when tested on the validation dataset. "
   ]
  },
  {
   "cell_type": "markdown",
   "id": "095085f9",
   "metadata": {},
   "source": [
    "### Random Forest Model"
   ]
  },
  {
   "cell_type": "code",
   "execution_count": 7,
   "id": "b9ae80d8",
   "metadata": {},
   "outputs": [
    {
     "name": "stdout",
     "output_type": "stream",
     "text": [
      "Best # estimators: 21. Best depth: 9. Accuracy: 0.7922885572139303.\n"
     ]
    }
   ],
   "source": [
    "best_est = 0 #Model's number of estimators placeholder value\n",
    "best_depth = 0 #Model depth placeholder value\n",
    "best_score = 0 #Accuracy score placeholder value\n",
    "\n",
    "for est in range(1, 51, 10): #Loop that will create a RandomForestClassifier models with different combinations of estimators\n",
    "    for depth in range(1, 51): #and depths\n",
    "        model = RandomForestClassifier(n_estimators=est,\n",
    "                                      max_depth=depth,\n",
    "                                      random_state=12345)\n",
    "        model.fit(features_train, target_train) #Fit current model with features and target\n",
    "        \n",
    "        score = model.score(features_valid, target_valid)\n",
    "        if score > best_score: #Replaces estimator, depth, and accuracy score placeholders with respective info from the most recent optimal model\n",
    "            best_score = score\n",
    "            best_est = est\n",
    "            best_depth = depth\n",
    "\n",
    "print(f'Best # estimators: {best_est}. Best depth: {best_depth}. Accuracy: {score}.') #Print statement results in optimal model and score from loop\n",
    "        \n"
   ]
  },
  {
   "cell_type": "markdown",
   "id": "cc3a215a",
   "metadata": {},
   "source": [
    "When given a range of estimators between 1 and 50 in increments of 10 and a range of depths between 1 and 50 (both ranges for sake of time efficiency) the Random Forest model had the highest accuracy with 21 estimators and a depth of 9 which returned an accuracy of approximately 0.792 when tested on the validation dataset. Although both models exceed the 0.75 accuracy threshold, the Random Forest model is slightly more accurate than the Decision Tree model."
   ]
  },
  {
   "cell_type": "markdown",
   "id": "afbde0c0",
   "metadata": {},
   "source": [
    "### Logistic Regression Model"
   ]
  },
  {
   "cell_type": "code",
   "execution_count": 8,
   "id": "be08ed6f",
   "metadata": {},
   "outputs": [
    {
     "name": "stdout",
     "output_type": "stream",
     "text": [
      "Best solver: newton-cg. Accuracy: 0.7599502487562189.\n"
     ]
    },
    {
     "name": "stderr",
     "output_type": "stream",
     "text": [
      "/home/kt/anaconda3/lib/python3.11/site-packages/scipy/optimize/_linesearch.py:425: LineSearchWarning: Rounding errors prevent the line search from converging\n",
      "  warn(msg, LineSearchWarning)\n",
      "/home/kt/anaconda3/lib/python3.11/site-packages/scipy/optimize/_linesearch.py:314: LineSearchWarning: The line search algorithm did not converge\n",
      "  warn('The line search algorithm did not converge', LineSearchWarning)\n",
      "/home/kt/anaconda3/lib/python3.11/site-packages/sklearn/utils/optimize.py:203: UserWarning: Line Search failed\n",
      "  warnings.warn(\"Line Search failed\")\n",
      "/home/kt/anaconda3/lib/python3.11/site-packages/sklearn/linear_model/_sag.py:350: ConvergenceWarning: The max_iter was reached which means the coef_ did not converge\n",
      "  warnings.warn(\n",
      "/home/kt/anaconda3/lib/python3.11/site-packages/sklearn/linear_model/_sag.py:350: ConvergenceWarning: The max_iter was reached which means the coef_ did not converge\n",
      "  warnings.warn(\n"
     ]
    }
   ],
   "source": [
    "solvers = ['liblinear', 'lbfgs', 'newton-cg', 'sag', 'saga'] #List of solvers for LogisticRegression model\n",
    "best_score = 0 #Accuracy score placeholder value\n",
    "best_solver = None #Model solver placeholder value\n",
    "\n",
    "for solver in solvers: #Loop that will create LogisticRegression models using different solvers\n",
    "    model = LogisticRegression(solver=solver, random_state=12345)\n",
    "    model.fit(features_train, target_train) #Fit current model with features and target\n",
    "\n",
    "    score = model.score(features_valid, target_valid)\n",
    "    if score > best_score: #Replaces solver and accuracy score placeholders with respective info from the most recent optimal model\n",
    "        best_score = score\n",
    "        best_solver = solver\n",
    "\n",
    "print(f'Best solver: {best_solver}. Accuracy: {best_score}.') #Print statement results in optimal model and score from loop"
   ]
  },
  {
   "cell_type": "markdown",
   "id": "4b90772d",
   "metadata": {},
   "source": [
    "The Logistic Regression model was most accurate when using the 'newton_cg' solver. When this model was tested on the validation dataset, it returned an accuracy of approximately 0.760 making it the least accurate of the three models regarding the given training data and range of hyperparameters."
   ]
  },
  {
   "cell_type": "markdown",
   "id": "15a84a05",
   "metadata": {},
   "source": [
    "## Conclusion"
   ]
  },
  {
   "cell_type": "markdown",
   "id": "75be0d5e",
   "metadata": {},
   "source": [
    "Three classification models (DecisionTreeClassifier, RandomForestClassifier, and LogisticRegression) were tested using a validation dataset for their accuracy in determining which Megaline phone plan a customer will be drawn to based on monthly phone data. Furthermore, each model was tested using different hyperparameter arguements to determine each model's optimality. The DecisionTreeClassifier model was tested using different depths from 1 to 50, The RandomForestClassifier with different depths from 1 to 50 in increments of 10 and number of estimators from 1 to 50, and LogisticRegression with different solvers. The model that returned the highest accuracy score was the RandomForestClassifier with hyperparemeters depth set to 9 and the number of estimators set to 21. With the threshold for accuracy being 0.75, the RandomForestClassifier returned an accuracy score of approximately 0.792. Following was the DecisionTreeClassifier model with a depth of 7 returning an accuracy score of 0.790, and the LogisticRegression model using the newton_cg solver returning an accuracy score of 0.760. Ranges of hyperparemters can be increased to possibly achieve higher accuracy of the models at the cost of more time to run them, but in this case of time efficiency and optimal accuracy, it appears the RandomForestClassifier with a depth of 9 and 21 estimators should be used by Megaline to determine which of their new phone plans to advertise to customers who have not yet switched."
   ]
  }
 ],
 "metadata": {
  "kernelspec": {
   "display_name": "Python 3 (ipykernel)",
   "language": "python",
   "name": "python3"
  },
  "language_info": {
   "codemirror_mode": {
    "name": "ipython",
    "version": 3
   },
   "file_extension": ".py",
   "mimetype": "text/x-python",
   "name": "python",
   "nbconvert_exporter": "python",
   "pygments_lexer": "ipython3",
   "version": "3.11.5"
  },
  "toc": {
   "base_numbering": 1,
   "nav_menu": {},
   "number_sections": true,
   "sideBar": true,
   "skip_h1_title": false,
   "title_cell": "Table of Contents",
   "title_sidebar": "Contents",
   "toc_cell": false,
   "toc_position": {
    "height": "calc(100% - 180px)",
    "left": "10px",
    "top": "150px",
    "width": "564px"
   },
   "toc_section_display": true,
   "toc_window_display": true
  }
 },
 "nbformat": 4,
 "nbformat_minor": 5
}
