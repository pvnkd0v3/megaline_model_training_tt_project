{
 "cells": [
  {
   "cell_type": "markdown",
   "id": "e02c828d",
   "metadata": {},
   "source": [
    "# Which Model Predicts Megaline Phone Plan Preference Most Accurately?"
   ]
  },
  {
   "cell_type": "markdown",
   "id": "d68d3a39",
   "metadata": {},
   "source": [
    "## Project Description"
   ]
  },
  {
   "cell_type": "markdown",
   "id": "9cdd35f7",
   "metadata": {},
   "source": [
    "The following project uses pre-processed data from the Megaline mobile phone company detailing their customer's monthly beahviors (number of calls made, data used, etc.). The data is derived from customers who have already switched to one of Megaline's new phone plans (Smart or Ultra) and will be used to train several classification models. Each model will be fitted to predict which of Megaline's new phone plans should be advertised to customers who have not yet switched to one of the Smart or Ultra plans. The purpose of this project is to test each model for optimal accuracy by iterating through different combinations of hyperparemters in order to provide Megaline with the most accurate and time efficient model for targeted advertisement. "
   ]
  },
  {
   "cell_type": "markdown",
   "id": "8aca73f4",
   "metadata": {},
   "source": [
    "## Import Neccesary Libraries"
   ]
  },
  {
   "cell_type": "code",
   "execution_count": 1,
   "id": "d13387aa",
   "metadata": {},
   "outputs": [],
   "source": [
    "import pandas as pd\n",
    "from sklearn.model_selection import train_test_split\n",
    "from sklearn.metrics import accuracy_score\n",
    "from sklearn.tree import DecisionTreeClassifier\n",
    "from sklearn.ensemble import RandomForestClassifier\n",
    "from sklearn.linear_model import LogisticRegression\n",
    "from sklearn.model_selection import ParameterGrid\n",
    "from sklearn.dummy import DummyClassifier"
   ]
  },
  {
   "cell_type": "markdown",
   "id": "0d332e09",
   "metadata": {},
   "source": [
    "## Open Dataset"
   ]
  },
  {
   "cell_type": "code",
   "execution_count": 2,
   "id": "78d4a737",
   "metadata": {},
   "outputs": [],
   "source": [
    "url = 'https://raw.githubusercontent.com/pvnkd0v3/megaline_model_training_tt_project/main/users_behavior.csv'\n",
    "megaline = pd.read_csv(url)"
   ]
  },
  {
   "cell_type": "markdown",
   "id": "e80fd255",
   "metadata": {},
   "source": [
    "## View Data"
   ]
  },
  {
   "cell_type": "code",
   "execution_count": 3,
   "id": "5df358e0",
   "metadata": {},
   "outputs": [
    {
     "data": {
      "text/html": [
       "<div>\n",
       "<style scoped>\n",
       "    .dataframe tbody tr th:only-of-type {\n",
       "        vertical-align: middle;\n",
       "    }\n",
       "\n",
       "    .dataframe tbody tr th {\n",
       "        vertical-align: top;\n",
       "    }\n",
       "\n",
       "    .dataframe thead th {\n",
       "        text-align: right;\n",
       "    }\n",
       "</style>\n",
       "<table border=\"1\" class=\"dataframe\">\n",
       "  <thead>\n",
       "    <tr style=\"text-align: right;\">\n",
       "      <th></th>\n",
       "      <th>calls</th>\n",
       "      <th>minutes</th>\n",
       "      <th>messages</th>\n",
       "      <th>mb_used</th>\n",
       "      <th>is_ultra</th>\n",
       "    </tr>\n",
       "  </thead>\n",
       "  <tbody>\n",
       "    <tr>\n",
       "      <th>0</th>\n",
       "      <td>40.0</td>\n",
       "      <td>311.90</td>\n",
       "      <td>83.0</td>\n",
       "      <td>19915.42</td>\n",
       "      <td>0</td>\n",
       "    </tr>\n",
       "    <tr>\n",
       "      <th>1</th>\n",
       "      <td>85.0</td>\n",
       "      <td>516.75</td>\n",
       "      <td>56.0</td>\n",
       "      <td>22696.96</td>\n",
       "      <td>0</td>\n",
       "    </tr>\n",
       "    <tr>\n",
       "      <th>2</th>\n",
       "      <td>77.0</td>\n",
       "      <td>467.66</td>\n",
       "      <td>86.0</td>\n",
       "      <td>21060.45</td>\n",
       "      <td>0</td>\n",
       "    </tr>\n",
       "    <tr>\n",
       "      <th>3</th>\n",
       "      <td>106.0</td>\n",
       "      <td>745.53</td>\n",
       "      <td>81.0</td>\n",
       "      <td>8437.39</td>\n",
       "      <td>1</td>\n",
       "    </tr>\n",
       "    <tr>\n",
       "      <th>4</th>\n",
       "      <td>66.0</td>\n",
       "      <td>418.74</td>\n",
       "      <td>1.0</td>\n",
       "      <td>14502.75</td>\n",
       "      <td>0</td>\n",
       "    </tr>\n",
       "    <tr>\n",
       "      <th>...</th>\n",
       "      <td>...</td>\n",
       "      <td>...</td>\n",
       "      <td>...</td>\n",
       "      <td>...</td>\n",
       "      <td>...</td>\n",
       "    </tr>\n",
       "    <tr>\n",
       "      <th>3209</th>\n",
       "      <td>122.0</td>\n",
       "      <td>910.98</td>\n",
       "      <td>20.0</td>\n",
       "      <td>35124.90</td>\n",
       "      <td>1</td>\n",
       "    </tr>\n",
       "    <tr>\n",
       "      <th>3210</th>\n",
       "      <td>25.0</td>\n",
       "      <td>190.36</td>\n",
       "      <td>0.0</td>\n",
       "      <td>3275.61</td>\n",
       "      <td>0</td>\n",
       "    </tr>\n",
       "    <tr>\n",
       "      <th>3211</th>\n",
       "      <td>97.0</td>\n",
       "      <td>634.44</td>\n",
       "      <td>70.0</td>\n",
       "      <td>13974.06</td>\n",
       "      <td>0</td>\n",
       "    </tr>\n",
       "    <tr>\n",
       "      <th>3212</th>\n",
       "      <td>64.0</td>\n",
       "      <td>462.32</td>\n",
       "      <td>90.0</td>\n",
       "      <td>31239.78</td>\n",
       "      <td>0</td>\n",
       "    </tr>\n",
       "    <tr>\n",
       "      <th>3213</th>\n",
       "      <td>80.0</td>\n",
       "      <td>566.09</td>\n",
       "      <td>6.0</td>\n",
       "      <td>29480.52</td>\n",
       "      <td>1</td>\n",
       "    </tr>\n",
       "  </tbody>\n",
       "</table>\n",
       "<p>3214 rows × 5 columns</p>\n",
       "</div>"
      ],
      "text/plain": [
       "      calls  minutes  messages   mb_used  is_ultra\n",
       "0      40.0   311.90      83.0  19915.42         0\n",
       "1      85.0   516.75      56.0  22696.96         0\n",
       "2      77.0   467.66      86.0  21060.45         0\n",
       "3     106.0   745.53      81.0   8437.39         1\n",
       "4      66.0   418.74       1.0  14502.75         0\n",
       "...     ...      ...       ...       ...       ...\n",
       "3209  122.0   910.98      20.0  35124.90         1\n",
       "3210   25.0   190.36       0.0   3275.61         0\n",
       "3211   97.0   634.44      70.0  13974.06         0\n",
       "3212   64.0   462.32      90.0  31239.78         0\n",
       "3213   80.0   566.09       6.0  29480.52         1\n",
       "\n",
       "[3214 rows x 5 columns]"
      ]
     },
     "execution_count": 3,
     "metadata": {},
     "output_type": "execute_result"
    }
   ],
   "source": [
    "megaline"
   ]
  },
  {
   "cell_type": "markdown",
   "id": "75e5974f",
   "metadata": {},
   "source": [
    "The megaline dataframe contains observations of 3214 customers of Megaline, a mobile carrier company. Each observation represents the monthly behavior of a single customer including the number of calls made, total call durations (in minutes), number of text messages sent, data used (in MB), and which of Megaline's new plans the user is subscribed to (0 for Smart 1 for Ultra). **Note:** This dataset has been previously processed in preperation for this project."
   ]
  },
  {
   "cell_type": "markdown",
   "id": "637c3cb1",
   "metadata": {},
   "source": [
    "## Define Model Features and Targets"
   ]
  },
  {
   "cell_type": "code",
   "execution_count": 4,
   "id": "147a50d5",
   "metadata": {},
   "outputs": [],
   "source": [
    "features = megaline.drop('is_ultra', axis=1) #User behavior that will be used to predict target (new phone plan)\n",
    "target = megaline['is_ultra'] #New phone plans to be predicted using features (user behavior)"
   ]
  },
  {
   "cell_type": "markdown",
   "id": "6d9d8d66",
   "metadata": {},
   "source": [
    "## Create Training, Test, and Validation Datasets"
   ]
  },
  {
   "cell_type": "code",
   "execution_count": 5,
   "id": "71e76c17",
   "metadata": {},
   "outputs": [
    {
     "name": "stdout",
     "output_type": "stream",
     "text": [
      "Training dataset:\n",
      "X: (1928, 4)\n",
      "Y: (1928,)\n",
      "\n",
      "Validation dataset:\n",
      "X: (643, 4)\n",
      "Y: (643,)\n",
      "\n",
      "Test dataset:\n",
      "X: (643, 4)\n",
      "Y: (643,)\n"
     ]
    }
   ],
   "source": [
    "# Create Train, Test, and Validation Datasets\n",
    "features_train, features_test, target_train, target_test = train_test_split(features, \n",
    "                                                                              target, \n",
    "                                                                              test_size=0.20, \n",
    "                                                                              random_state=12345)\n",
    "\n",
    "features_train, features_valid, target_train, target_valid = train_test_split(features_train, \n",
    "                                                                             target_train,\n",
    "                                                                             test_size=0.25, \n",
    "                                                                              random_state=12345)\n",
    "\n",
    "#Confirm sizes of datasets\n",
    "print('Training dataset:')\n",
    "print('X:', features_train.shape)\n",
    "print('Y:', target_train.shape)\n",
    "print()\n",
    "print('Validation dataset:')\n",
    "print('X:', features_valid.shape)\n",
    "print('Y:', target_valid.shape)\n",
    "print()\n",
    "print('Test dataset:')\n",
    "print('X:', features_test.shape)\n",
    "print('Y:', target_test.shape)"
   ]
  },
  {
   "cell_type": "markdown",
   "id": "2e193bc5",
   "metadata": {},
   "source": [
    "## Test Accuracy of Different Models"
   ]
  },
  {
   "cell_type": "code",
   "execution_count": 6,
   "id": "91405478",
   "metadata": {},
   "outputs": [],
   "source": [
    "#Function that takes a class of model, a grid of parameters to iterate through, \n",
    "#and the features and targets of both training and validation datasets. It fits \n",
    "#the specified model class with each possible hyperparameter in the parameter \n",
    "#grid and tests each iteration of the model for accuracy. It returns the parameters\n",
    "#that resulted in the highest accuracy score\n",
    "\n",
    "def find_best_model(model_class, \n",
    "                    param_grid, \n",
    "                    features_train, \n",
    "                    target_train, \n",
    "                    features_valid, \n",
    "                    target_valid):  \n",
    "    \n",
    "    best_score = 0  #Placeholder value\n",
    "    best_params= None #Placeholder value\n",
    "    \n",
    "    for params in ParameterGrid(param_grid): #For loop iterating through every possible combination of hyperparamters in the given parameter grid\n",
    "        model = model_class(**params, random_state=12345) #Define model using given model class and current hyperparemter in loop\n",
    "        model.fit(features_train, target_train) #Fit the model from given training dataset's features and target \n",
    "        \n",
    "        score = model.score(features_valid, target_valid) #Define accuracy score of the current model in the loop\n",
    "        if score > best_score: #Make best_score and best_params variable equal to the current model's score and params if the score was greater than the previous model's score\n",
    "            best_score = score\n",
    "            best_params = params\n",
    "\n",
    "    print(f'Best parameters: {best_params}. Best accuracy: {best_score}') #Print statement returning the most accurate model's parameters and accuracy score"
   ]
  },
  {
   "cell_type": "markdown",
   "id": "427029e8",
   "metadata": {},
   "source": [
    "### Decision Tree Model"
   ]
  },
  {
   "cell_type": "code",
   "execution_count": 7,
   "id": "3a4a7eb0",
   "metadata": {},
   "outputs": [
    {
     "name": "stdout",
     "output_type": "stream",
     "text": [
      "Best parameters: {'max_depth': 7}. Best accuracy: 0.7744945567651633\n"
     ]
    }
   ],
   "source": [
    "param_grid_dt = {'max_depth' : range(1, 51)} #Chosen paramater grid for DecisionTreeClassifier model class\n",
    "\n",
    "find_best_model(DecisionTreeClassifier, \n",
    "               param_grid_dt,\n",
    "               features_train,\n",
    "               target_train,\n",
    "               features_valid,\n",
    "               target_valid)"
   ]
  },
  {
   "cell_type": "markdown",
   "id": "4474c4c3",
   "metadata": {},
   "source": [
    "When given a range of depths between 1 and 50 (for sake of time efficiency) the Decision Tree model had the highest accuracy with a depth of 7 which returned an accuracy of approximately 0.774 when tested on the validation dataset. "
   ]
  },
  {
   "cell_type": "markdown",
   "id": "095085f9",
   "metadata": {},
   "source": [
    "### Random Forest Model"
   ]
  },
  {
   "cell_type": "code",
   "execution_count": 8,
   "id": "b9ae80d8",
   "metadata": {},
   "outputs": [
    {
     "name": "stdout",
     "output_type": "stream",
     "text": [
      "Best parameters: {'max_depth': 15, 'n_estimators': 21}. Best accuracy: 0.8009331259720062\n"
     ]
    }
   ],
   "source": [
    "param_grid_rf = {'n_estimators': range(1, 51, 10), #Chosen parameter grid for RandomForestClassifier model class\n",
    "                'max_depth': range(1, 51)}\n",
    "\n",
    "find_best_model(RandomForestClassifier,\n",
    "               param_grid_rf,\n",
    "               features_train,\n",
    "               target_train,\n",
    "               features_valid,\n",
    "               target_valid)\n"
   ]
  },
  {
   "cell_type": "markdown",
   "id": "cc3a215a",
   "metadata": {},
   "source": [
    "When given a range of estimators between 1 and 50 in increments of 10 and a range of depths between 1 and 50 (both ranges for sake of time efficiency) the Random Forest model had the highest accuracy with 21 estimators and a depth of 15 which returned an accuracy of approximately 0.801 when tested on the validation dataset. Although both models exceed the 0.75 accuracy threshold, the Random Forest model is more accurate than the Decision Tree model."
   ]
  },
  {
   "cell_type": "markdown",
   "id": "afbde0c0",
   "metadata": {},
   "source": [
    "### Logistic Regression Model"
   ]
  },
  {
   "cell_type": "code",
   "execution_count": 9,
   "id": "be08ed6f",
   "metadata": {},
   "outputs": [
    {
     "name": "stdout",
     "output_type": "stream",
     "text": [
      "Best parameters: {'solver': 'lbfgs'}. Best accuracy: 0.7262830482115086\n"
     ]
    },
    {
     "name": "stderr",
     "output_type": "stream",
     "text": [
      "/home/kt/anaconda3/lib/python3.11/site-packages/scipy/optimize/_linesearch.py:466: LineSearchWarning: The line search algorithm did not converge\n",
      "  warn('The line search algorithm did not converge', LineSearchWarning)\n",
      "/home/kt/anaconda3/lib/python3.11/site-packages/scipy/optimize/_linesearch.py:314: LineSearchWarning: The line search algorithm did not converge\n",
      "  warn('The line search algorithm did not converge', LineSearchWarning)\n",
      "/home/kt/anaconda3/lib/python3.11/site-packages/sklearn/linear_model/_sag.py:350: ConvergenceWarning: The max_iter was reached which means the coef_ did not converge\n",
      "  warnings.warn(\n",
      "/home/kt/anaconda3/lib/python3.11/site-packages/sklearn/linear_model/_sag.py:350: ConvergenceWarning: The max_iter was reached which means the coef_ did not converge\n",
      "  warnings.warn(\n"
     ]
    }
   ],
   "source": [
    "param_grid_lr = {'solver': ['liblinear', 'lbfgs', 'newton-cg', 'sag', 'saga']} #Chosen parameter grid for LogisticRegression model class\n",
    "\n",
    "find_best_model(LogisticRegression,\n",
    "               param_grid_lr,\n",
    "               features_train,\n",
    "               target_train,\n",
    "               features_valid,\n",
    "               target_valid)"
   ]
  },
  {
   "cell_type": "markdown",
   "id": "4b90772d",
   "metadata": {},
   "source": [
    "The Logistic Regression model was most accurate when using the 'liblinear' solver. When this model was tested on the validation dataset, it returned an accuracy of approximately 0.726 making it not only the least accurate of the three models but not accurate at all as it doesn't reach the accuracy threshold of 0.75."
   ]
  },
  {
   "cell_type": "markdown",
   "id": "60f13d6e",
   "metadata": {},
   "source": [
    "## Test Best Model Using New Data"
   ]
  },
  {
   "cell_type": "code",
   "execution_count": 10,
   "id": "e33c37da",
   "metadata": {},
   "outputs": [],
   "source": [
    "best_model = RandomForestClassifier(n_estimators=21, \n",
    "                          max_depth=15, \n",
    "                          random_state=12345)"
   ]
  },
  {
   "cell_type": "code",
   "execution_count": 11,
   "id": "25fc3370",
   "metadata": {},
   "outputs": [
    {
     "name": "stdout",
     "output_type": "stream",
     "text": [
      "Accuracy score of best model when tested using test dataset: 0.7822706065318819\n"
     ]
    }
   ],
   "source": [
    "model = best_model.fit(features_train, target_train)\n",
    "\n",
    "score = model.score(features_test, target_test)\n",
    "print(f'Accuracy score of best model when tested using test dataset: {score}')"
   ]
  },
  {
   "cell_type": "markdown",
   "id": "1c575575",
   "metadata": {},
   "source": [
    "When presented with new data from the test dataset, the RandomForestClassifier model with 21 estimators and depth of 15 was confirmed to be accurate with an accuracy score of approximately 0.782."
   ]
  },
  {
   "cell_type": "markdown",
   "id": "398cc94e",
   "metadata": {},
   "source": [
    "## Sanity Check Best Model"
   ]
  },
  {
   "cell_type": "code",
   "execution_count": 12,
   "id": "d1efc3b6",
   "metadata": {},
   "outputs": [
    {
     "name": "stdout",
     "output_type": "stream",
     "text": [
      "Dummy model accuracy: 0.6951788491446346.\n"
     ]
    }
   ],
   "source": [
    "dummy_clf = DummyClassifier(strategy='most_frequent', random_state=0) #Create a dummy model that predicts most frequent class (phone plan)\n",
    "dummy_model = dummy_clf.fit(features_train, target_train)\n",
    "\n",
    "score = dummy_model.score(features_test, target_test) #Obtain and print accuracy score of dummy model\n",
    "print(f'Dummy model accuracy: {score}.')"
   ]
  },
  {
   "cell_type": "markdown",
   "id": "69e877dd",
   "metadata": {},
   "source": [
    "Considering the original Megaline data is heavily skewed towards the Smart Plan, a dummy model was fitted with the training data using the 'most frequent' strategy to predict the phone plan from user data. Not only was this model less accurate than the best RandomForestCLassifier model, but it did not cross the accuracy threshold at all with a score of 0.695. This conforms that with the given range of hyperparameters considering the need for both accuracy and time efficiency, the Random Forest model is the most accurate when predicting which new phone plan a Megaline customer would most likely switch to."
   ]
  },
  {
   "cell_type": "markdown",
   "id": "15a84a05",
   "metadata": {},
   "source": [
    "## Conclusion"
   ]
  },
  {
   "cell_type": "markdown",
   "id": "75be0d5e",
   "metadata": {},
   "source": [
    "Three classification models (DecisionTreeClassifier, RandomForestClassifier, and LogisticRegression) were tested using a validation dataset for their accuracy in determining which Megaline phone plan a customer will be drawn to based on monthly phone data. Furthermore, each model was tested using different hyperparameter arguements to determine each model's optimality. The DecisionTreeClassifier model was tested using different depths from 1 to 50, The RandomForestClassifier with different depths from 1 to 50 in increments of 10 and number of estimators from 1 to 50, and LogisticRegression with different solvers. The model that returned the highest accuracy score was the RandomForestClassifier with hyperparemeters depth set to 15 and the number of estimators set to 21. With the threshold for accuracy being 0.75, the RandomForestClassifier returned an accuracy score of approximately 0.801. Following was the DecisionTreeClassifier model with a depth of 7 returning an accuracy score of 0.774, and the LogisticRegression model using the liblinear solver returning an accuracy score of 0.726. The RandomForestClassifier model with the optimal hyperparameters was then tested for accuracy using new data from the test dataset returning an sufficient accuracy score of approximately 0.782. Furthermore, the Random Forest model's accuracy was compared to that of a baseline dummy model that was fitted to predict the phone plan from user data using the most frequent phone plan from the training set as its strategy. The Random Forest model was found to be more accurate than the dummy model confirming that it is the most accurate model. Ranges of hyperparemters can be increased to possibly achieve higher accuracy of the models at the cost of more time to run them, but in this case of time efficiency and optimal accuracy, it appears the RandomForestClassifier with a depth of 15 and 21 estimators should be used by Megaline to determine which of their new phone plans to advertise to customers who have not yet switched."
   ]
  }
 ],
 "metadata": {
  "kernelspec": {
   "display_name": "Python 3 (ipykernel)",
   "language": "python",
   "name": "python3"
  },
  "language_info": {
   "codemirror_mode": {
    "name": "ipython",
    "version": 3
   },
   "file_extension": ".py",
   "mimetype": "text/x-python",
   "name": "python",
   "nbconvert_exporter": "python",
   "pygments_lexer": "ipython3",
   "version": "3.11.5"
  },
  "toc": {
   "base_numbering": 1,
   "nav_menu": {},
   "number_sections": true,
   "sideBar": true,
   "skip_h1_title": false,
   "title_cell": "Table of Contents",
   "title_sidebar": "Contents",
   "toc_cell": false,
   "toc_position": {
    "height": "calc(100% - 180px)",
    "left": "10px",
    "top": "150px",
    "width": "564px"
   },
   "toc_section_display": true,
   "toc_window_display": true
  }
 },
 "nbformat": 4,
 "nbformat_minor": 5
}
